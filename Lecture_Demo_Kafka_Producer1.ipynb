{
 "cells": [
  {
   "cell_type": "code",
   "execution_count": 1,
   "metadata": {},
   "outputs": [],
   "source": [
    "# import statements\n",
    "from time import sleep\n",
    "from json import dumps\n",
    "from kafka3 import KafkaProducer\n",
    "import random\n",
    "import datetime as dt\n",
    "\n",
    "#configuration\n",
    "hostip = \"192.168.100.4\" #change me\n",
    "\n",
    "def publish_message(producer_instance, topic_name, key, value):\n",
    "    try:\n",
    "        key_bytes = bytes(key, encoding='utf-8')\n",
    "        value_bytes = bytes(value, encoding='utf-8')\n",
    "        producer_instance.send(topic_name, key=key_bytes, value=value_bytes)\n",
    "        producer_instance.flush()\n",
    "        print('Data: ' + str(data))\n",
    "    except Exception as ex:\n",
    "        print('Exception in publishing message.')\n",
    "        print(str(ex))\n",
    "        \n",
    "def connect_kafka_producer():\n",
    "    _producer = None\n",
    "    try:\n",
    "        _producer = KafkaProducer(bootstrap_servers=[f'{hostip}:9092'],\n",
    "                                  api_version=(0, 10))\n",
    "    except Exception as ex:\n",
    "        print('Exception while connecting Kafka.')\n",
    "        print(str(ex))\n",
    "    finally:\n",
    "        return _producer"
   ]
  },
  {
   "cell_type": "code",
   "execution_count": 2,
   "metadata": {},
   "outputs": [
    {
     "name": "stdout",
     "output_type": "stream",
     "text": [
      "Publishing records..\n",
      "Data: R,9,92\n",
      "Data: R,9,21\n",
      "Data: R,4,53\n",
      "Data: R,6,25\n",
      "Data: R,6,77\n",
      "Data: R,3,73\n",
      "Data: R,5,89\n",
      "Data: R,2,68\n",
      "Data: R,7,48\n",
      "Data: R,3,31\n",
      "Data: R,8,82\n",
      "Data: R,8,54\n",
      "Data: R,2,10\n",
      "Data: R,8,83\n",
      "Data: R,7,59\n",
      "Data: R,1,11\n",
      "Data: R,7,50\n",
      "Data: R,3,33\n",
      "Data: R,1,24\n",
      "Data: R,4,66\n",
      "Data: R,9,18\n",
      "Data: R,4,50\n",
      "Data: R,5,87\n",
      "Data: R,4,33\n",
      "Data: R,5,53\n",
      "Data: R,2,79\n",
      "Data: R,7,11\n",
      "Data: R,4,57\n",
      "Data: R,4,14\n",
      "Data: R,4,95\n",
      "Data: R,4,65\n",
      "Data: R,1,56\n",
      "Data: R,6,40\n",
      "Data: R,2,39\n",
      "Data: R,8,4\n",
      "Data: R,7,68\n"
     ]
    },
    {
     "ename": "KeyboardInterrupt",
     "evalue": "",
     "output_type": "error",
     "traceback": [
      "\u001b[0;31m---------------------------------------------------------------------------\u001b[0m",
      "\u001b[0;31mKeyboardInterrupt\u001b[0m                         Traceback (most recent call last)",
      "Cell \u001b[0;32mIn[2], line 9\u001b[0m\n\u001b[1;32m      7\u001b[0m data \u001b[38;5;241m=\u001b[39m \u001b[38;5;124m'\u001b[39m\u001b[38;5;124mR\u001b[39m\u001b[38;5;124m'\u001b[39m\u001b[38;5;241m+\u001b[39m \u001b[38;5;124m'\u001b[39m\u001b[38;5;124m,\u001b[39m\u001b[38;5;124m'\u001b[39m \u001b[38;5;241m+\u001b[39m \u001b[38;5;28mstr\u001b[39m(random\u001b[38;5;241m.\u001b[39mrandrange(\u001b[38;5;241m1\u001b[39m,\u001b[38;5;241m10\u001b[39m))  \u001b[38;5;241m+\u001b[39m \u001b[38;5;124m'\u001b[39m\u001b[38;5;124m,\u001b[39m\u001b[38;5;124m'\u001b[39m \u001b[38;5;241m+\u001b[39m \u001b[38;5;28mstr\u001b[39m(random\u001b[38;5;241m.\u001b[39mrandrange(\u001b[38;5;241m1\u001b[39m,\u001b[38;5;241m100\u001b[39m))\n\u001b[1;32m      8\u001b[0m publish_message(producer, topic, \u001b[38;5;124m'\u001b[39m\u001b[38;5;124mparsed\u001b[39m\u001b[38;5;124m'\u001b[39m, data)\n\u001b[0;32m----> 9\u001b[0m \u001b[43msleep\u001b[49m\u001b[43m(\u001b[49m\u001b[38;5;241;43m1\u001b[39;49m\u001b[43m)\u001b[49m\n",
      "\u001b[0;31mKeyboardInterrupt\u001b[0m: "
     ]
    }
   ],
   "source": [
    "topic = 'LectureDemoWeek10'\n",
    "print('Publishing records..')\n",
    "producer = connect_kafka_producer()\n",
    "\n",
    "# Data format: table, key, value\n",
    "for e in range(100):\n",
    "    data = 'R'+ ',' + str(random.randrange(1,10))  + ',' + str(random.randrange(1,100))\n",
    "    publish_message(producer, topic, 'parsed', data)\n",
    "    sleep(1)"
   ]
  },
  {
   "cell_type": "code",
   "execution_count": null,
   "metadata": {},
   "outputs": [],
   "source": []
  }
 ],
 "metadata": {
  "kernelspec": {
   "display_name": "Python 3 (ipykernel)",
   "language": "python",
   "name": "python3"
  },
  "language_info": {
   "codemirror_mode": {
    "name": "ipython",
    "version": 3
   },
   "file_extension": ".py",
   "mimetype": "text/x-python",
   "name": "python",
   "nbconvert_exporter": "python",
   "pygments_lexer": "ipython3",
   "version": "3.8.15"
  }
 },
 "nbformat": 4,
 "nbformat_minor": 2
}
