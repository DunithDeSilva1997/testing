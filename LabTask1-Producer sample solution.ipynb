{
 "cells": [
  {
   "cell_type": "code",
   "execution_count": 1,
   "metadata": {
    "id": "M0MQdPuFhHDb",
    "outputId": "90600185-6504-465b-a398-702528186ea2"
   },
   "outputs": [
    {
     "name": "stdout",
     "output_type": "stream",
     "text": [
      "Publishing records..\n",
      "Message published successfully. Data: {'data': [{'Age': '36', 'Gender': '0', 'Impressions': '3', 'Clicks': '0', 'Signed_In': '1'}, {'Age': '73', 'Gender': '1', 'Impressions': '3', 'Clicks': '0', 'Signed_In': '1'}, {'Age': '30', 'Gender': '0', 'Impressions': '3', 'Clicks': '0', 'Signed_In': '1'}, {'Age': '49', 'Gender': '1', 'Impressions': '3', 'Clicks': '0', 'Signed_In': '1'}, {'Age': '47', 'Gender': '1', 'Impressions': '11', 'Clicks': '0', 'Signed_In': '1'}, {'Age': '47', 'Gender': '0', 'Impressions': '11', 'Clicks': '1', 'Signed_In': '1'}, {'Age': '0', 'Gender': '0', 'Impressions': '7', 'Clicks': '1', 'Signed_In': '0'}], 'ts': 1745816344}\n",
      "Message published successfully. Data: {'data': [{'Age': '46', 'Gender': '0', 'Impressions': '5', 'Clicks': '0', 'Signed_In': '1'}, {'Age': '16', 'Gender': '0', 'Impressions': '3', 'Clicks': '0', 'Signed_In': '1'}, {'Age': '52', 'Gender': '0', 'Impressions': '4', 'Clicks': '0', 'Signed_In': '1'}, {'Age': '0', 'Gender': '0', 'Impressions': '8', 'Clicks': '1', 'Signed_In': '0'}, {'Age': '21', 'Gender': '0', 'Impressions': '3', 'Clicks': '0', 'Signed_In': '1'}, {'Age': '0', 'Gender': '0', 'Impressions': '4', 'Clicks': '0', 'Signed_In': '0'}, {'Age': '57', 'Gender': '0', 'Impressions': '6', 'Clicks': '0', 'Signed_In': '1'}], 'ts': 1745816349}\n",
      "Message published successfully. Data: {'data': [{'Age': '31', 'Gender': '0', 'Impressions': '5', 'Clicks': '0', 'Signed_In': '1'}, {'Age': '0', 'Gender': '0', 'Impressions': '6', 'Clicks': '0', 'Signed_In': '0'}, {'Age': '40', 'Gender': '1', 'Impressions': '3', 'Clicks': '0', 'Signed_In': '1'}, {'Age': '31', 'Gender': '1', 'Impressions': '5', 'Clicks': '0', 'Signed_In': '1'}, {'Age': '38', 'Gender': '0', 'Impressions': '4', 'Clicks': '0', 'Signed_In': '1'}, {'Age': '0', 'Gender': '0', 'Impressions': '5', 'Clicks': '0', 'Signed_In': '0'}, {'Age': '59', 'Gender': '1', 'Impressions': '4', 'Clicks': '0', 'Signed_In': '1'}], 'ts': 1745816354}\n",
      "Message published successfully. Data: {'data': [{'Age': '61', 'Gender': '0', 'Impressions': '6', 'Clicks': '0', 'Signed_In': '1'}, {'Age': '48', 'Gender': '0', 'Impressions': '7', 'Clicks': '0', 'Signed_In': '1'}, {'Age': '29', 'Gender': '1', 'Impressions': '2', 'Clicks': '0', 'Signed_In': '1'}, {'Age': '0', 'Gender': '0', 'Impressions': '4', 'Clicks': '0', 'Signed_In': '0'}, {'Age': '19', 'Gender': '1', 'Impressions': '4', 'Clicks': '0', 'Signed_In': '1'}, {'Age': '19', 'Gender': '0', 'Impressions': '3', 'Clicks': '0', 'Signed_In': '1'}, {'Age': '48', 'Gender': '1', 'Impressions': '9', 'Clicks': '0', 'Signed_In': '1'}], 'ts': 1745816359}\n",
      "Message published successfully. Data: {'data': [{'Age': '48', 'Gender': '1', 'Impressions': '4', 'Clicks': '0', 'Signed_In': '1'}, {'Age': '21', 'Gender': '1', 'Impressions': '5', 'Clicks': '0', 'Signed_In': '1'}, {'Age': '23', 'Gender': '0', 'Impressions': '4', 'Clicks': '0', 'Signed_In': '1'}, {'Age': '66', 'Gender': '1', 'Impressions': '3', 'Clicks': '0', 'Signed_In': '1'}, {'Age': '23', 'Gender': '1', 'Impressions': '7', 'Clicks': '0', 'Signed_In': '1'}, {'Age': '44', 'Gender': '1', 'Impressions': '4', 'Clicks': '0', 'Signed_In': '1'}, {'Age': '32', 'Gender': '0', 'Impressions': '2', 'Clicks': '0', 'Signed_In': '1'}], 'ts': 1745816364}\n",
      "Message published successfully. Data: {'data': [{'Age': '22', 'Gender': '1', 'Impressions': '2', 'Clicks': '0', 'Signed_In': '1'}, {'Age': '30', 'Gender': '1', 'Impressions': '8', 'Clicks': '0', 'Signed_In': '1'}, {'Age': '74', 'Gender': '0', 'Impressions': '2', 'Clicks': '0', 'Signed_In': '1'}, {'Age': '65', 'Gender': '1', 'Impressions': '5', 'Clicks': '0', 'Signed_In': '1'}, {'Age': '0', 'Gender': '0', 'Impressions': '7', 'Clicks': '2', 'Signed_In': '0'}, {'Age': '32', 'Gender': '1', 'Impressions': '9', 'Clicks': '0', 'Signed_In': '1'}, {'Age': '0', 'Gender': '0', 'Impressions': '4', 'Clicks': '0', 'Signed_In': '0'}], 'ts': 1745816369}\n",
      "Message published successfully. Data: {'data': [{'Age': '61', 'Gender': '0', 'Impressions': '2', 'Clicks': '0', 'Signed_In': '1'}, {'Age': '63', 'Gender': '1', 'Impressions': '4', 'Clicks': '0', 'Signed_In': '1'}, {'Age': '36', 'Gender': '1', 'Impressions': '1', 'Clicks': '0', 'Signed_In': '1'}, {'Age': '35', 'Gender': '0', 'Impressions': '7', 'Clicks': '0', 'Signed_In': '1'}, {'Age': '0', 'Gender': '0', 'Impressions': '3', 'Clicks': '0', 'Signed_In': '0'}, {'Age': '0', 'Gender': '0', 'Impressions': '7', 'Clicks': '0', 'Signed_In': '0'}, {'Age': '73', 'Gender': '0', 'Impressions': '4', 'Clicks': '0', 'Signed_In': '1'}], 'ts': 1745816374}\n",
      "Message published successfully. Data: {'data': [{'Age': '0', 'Gender': '0', 'Impressions': '5', 'Clicks': '0', 'Signed_In': '0'}, {'Age': '0', 'Gender': '0', 'Impressions': '5', 'Clicks': '0', 'Signed_In': '0'}, {'Age': '33', 'Gender': '0', 'Impressions': '4', 'Clicks': '0', 'Signed_In': '1'}, {'Age': '34', 'Gender': '0', 'Impressions': '5', 'Clicks': '0', 'Signed_In': '1'}, {'Age': '48', 'Gender': '1', 'Impressions': '1', 'Clicks': '0', 'Signed_In': '1'}, {'Age': '43', 'Gender': '1', 'Impressions': '4', 'Clicks': '0', 'Signed_In': '1'}, {'Age': '59', 'Gender': '1', 'Impressions': '2', 'Clicks': '0', 'Signed_In': '1'}], 'ts': 1745816379}\n",
      "Message published successfully. Data: {'data': [{'Age': '34', 'Gender': '0', 'Impressions': '3', 'Clicks': '0', 'Signed_In': '1'}, {'Age': '22', 'Gender': '0', 'Impressions': '5', 'Clicks': '0', 'Signed_In': '1'}, {'Age': '18', 'Gender': '1', 'Impressions': '1', 'Clicks': '0', 'Signed_In': '1'}, {'Age': '0', 'Gender': '0', 'Impressions': '4', 'Clicks': '0', 'Signed_In': '0'}, {'Age': '0', 'Gender': '0', 'Impressions': '8', 'Clicks': '0', 'Signed_In': '0'}, {'Age': '17', 'Gender': '1', 'Impressions': '6', 'Clicks': '0', 'Signed_In': '1'}, {'Age': '30', 'Gender': '0', 'Impressions': '5', 'Clicks': '0', 'Signed_In': '1'}], 'ts': 1745816384}\n",
      "Message published successfully. Data: {'data': [{'Age': '0', 'Gender': '0', 'Impressions': '2', 'Clicks': '1', 'Signed_In': '0'}, {'Age': '57', 'Gender': '0', 'Impressions': '4', 'Clicks': '0', 'Signed_In': '1'}, {'Age': '62', 'Gender': '0', 'Impressions': '5', 'Clicks': '0', 'Signed_In': '1'}, {'Age': '27', 'Gender': '0', 'Impressions': '4', 'Clicks': '0', 'Signed_In': '1'}, {'Age': '11', 'Gender': '0', 'Impressions': '5', 'Clicks': '0', 'Signed_In': '1'}, {'Age': '38', 'Gender': '0', 'Impressions': '6', 'Clicks': '0', 'Signed_In': '1'}, {'Age': '21', 'Gender': '1', 'Impressions': '4', 'Clicks': '0', 'Signed_In': '1'}], 'ts': 1745816389}\n",
      "Message published successfully. Data: {'data': [{'Age': '42', 'Gender': '0', 'Impressions': '4', 'Clicks': '0', 'Signed_In': '1'}, {'Age': '41', 'Gender': '0', 'Impressions': '10', 'Clicks': '0', 'Signed_In': '1'}, {'Age': '0', 'Gender': '0', 'Impressions': '6', 'Clicks': '1', 'Signed_In': '0'}, {'Age': '42', 'Gender': '0', 'Impressions': '6', 'Clicks': '0', 'Signed_In': '1'}, {'Age': '14', 'Gender': '0', 'Impressions': '7', 'Clicks': '0', 'Signed_In': '1'}, {'Age': '64', 'Gender': '1', 'Impressions': '7', 'Clicks': '1', 'Signed_In': '1'}, {'Age': '0', 'Gender': '0', 'Impressions': '5', 'Clicks': '0', 'Signed_In': '0'}], 'ts': 1745816394}\n",
      "Message published successfully. Data: {'data': [{'Age': '24', 'Gender': '1', 'Impressions': '5', 'Clicks': '0', 'Signed_In': '1'}, {'Age': '29', 'Gender': '0', 'Impressions': '4', 'Clicks': '0', 'Signed_In': '1'}, {'Age': '26', 'Gender': '1', 'Impressions': '5', 'Clicks': '0', 'Signed_In': '1'}, {'Age': '18', 'Gender': '0', 'Impressions': '3', 'Clicks': '0', 'Signed_In': '1'}, {'Age': '22', 'Gender': '0', 'Impressions': '5', 'Clicks': '0', 'Signed_In': '1'}, {'Age': '0', 'Gender': '0', 'Impressions': '3', 'Clicks': '0', 'Signed_In': '0'}, {'Age': '0', 'Gender': '0', 'Impressions': '1', 'Clicks': '0', 'Signed_In': '0'}], 'ts': 1745816399}\n",
      "Message published successfully. Data: {'data': [{'Age': '42', 'Gender': '0', 'Impressions': '2', 'Clicks': '0', 'Signed_In': '1'}, {'Age': '0', 'Gender': '0', 'Impressions': '7', 'Clicks': '1', 'Signed_In': '0'}, {'Age': '0', 'Gender': '0', 'Impressions': '5', 'Clicks': '0', 'Signed_In': '0'}, {'Age': '0', 'Gender': '0', 'Impressions': '4', 'Clicks': '0', 'Signed_In': '0'}, {'Age': '22', 'Gender': '1', 'Impressions': '4', 'Clicks': '0', 'Signed_In': '1'}, {'Age': '39', 'Gender': '1', 'Impressions': '4', 'Clicks': '0', 'Signed_In': '1'}, {'Age': '61', 'Gender': '1', 'Impressions': '1', 'Clicks': '0', 'Signed_In': '1'}], 'ts': 1745816405}\n"
     ]
    },
    {
     "name": "stdout",
     "output_type": "stream",
     "text": [
      "Message published successfully. Data: {'data': [{'Age': '47', 'Gender': '0', 'Impressions': '4', 'Clicks': '0', 'Signed_In': '1'}, {'Age': '0', 'Gender': '0', 'Impressions': '1', 'Clicks': '0', 'Signed_In': '0'}, {'Age': '0', 'Gender': '0', 'Impressions': '5', 'Clicks': '0', 'Signed_In': '0'}, {'Age': '19', 'Gender': '1', 'Impressions': '8', 'Clicks': '0', 'Signed_In': '1'}, {'Age': '48', 'Gender': '1', 'Impressions': '6', 'Clicks': '0', 'Signed_In': '1'}, {'Age': '71', 'Gender': '0', 'Impressions': '4', 'Clicks': '0', 'Signed_In': '1'}, {'Age': '31', 'Gender': '1', 'Impressions': '3', 'Clicks': '0', 'Signed_In': '1'}], 'ts': 1745816410}\n",
      "Message published successfully. Data: {'data': [{'Age': '43', 'Gender': '0', 'Impressions': '5', 'Clicks': '0', 'Signed_In': '1'}, {'Age': '0', 'Gender': '0', 'Impressions': '7', 'Clicks': '0', 'Signed_In': '0'}, {'Age': '62', 'Gender': '1', 'Impressions': '7', 'Clicks': '0', 'Signed_In': '1'}, {'Age': '0', 'Gender': '0', 'Impressions': '6', 'Clicks': '0', 'Signed_In': '0'}, {'Age': '61', 'Gender': '1', 'Impressions': '2', 'Clicks': '0', 'Signed_In': '1'}, {'Age': '46', 'Gender': '0', 'Impressions': '4', 'Clicks': '0', 'Signed_In': '1'}, {'Age': '32', 'Gender': '1', 'Impressions': '3', 'Clicks': '0', 'Signed_In': '1'}], 'ts': 1745816415}\n",
      "Message published successfully. Data: {'data': [{'Age': '47', 'Gender': '0', 'Impressions': '4', 'Clicks': '0', 'Signed_In': '1'}, {'Age': '0', 'Gender': '0', 'Impressions': '2', 'Clicks': '1', 'Signed_In': '0'}, {'Age': '49', 'Gender': '0', 'Impressions': '4', 'Clicks': '0', 'Signed_In': '1'}, {'Age': '0', 'Gender': '0', 'Impressions': '6', 'Clicks': '0', 'Signed_In': '0'}, {'Age': '31', 'Gender': '0', 'Impressions': '5', 'Clicks': '0', 'Signed_In': '1'}, {'Age': '48', 'Gender': '0', 'Impressions': '8', 'Clicks': '0', 'Signed_In': '1'}, {'Age': '26', 'Gender': '1', 'Impressions': '2', 'Clicks': '0', 'Signed_In': '1'}], 'ts': 1745816420}\n",
      "Message published successfully. Data: {'data': [{'Age': '19', 'Gender': '1', 'Impressions': '6', 'Clicks': '0', 'Signed_In': '1'}, {'Age': '45', 'Gender': '1', 'Impressions': '9', 'Clicks': '0', 'Signed_In': '1'}, {'Age': '0', 'Gender': '0', 'Impressions': '5', 'Clicks': '0', 'Signed_In': '0'}, {'Age': '43', 'Gender': '1', 'Impressions': '5', 'Clicks': '0', 'Signed_In': '1'}, {'Age': '39', 'Gender': '0', 'Impressions': '8', 'Clicks': '0', 'Signed_In': '1'}, {'Age': '0', 'Gender': '0', 'Impressions': '8', 'Clicks': '0', 'Signed_In': '0'}, {'Age': '28', 'Gender': '0', 'Impressions': '5', 'Clicks': '0', 'Signed_In': '1'}], 'ts': 1745816425}\n",
      "Message published successfully. Data: {'data': [{'Age': '0', 'Gender': '0', 'Impressions': '5', 'Clicks': '0', 'Signed_In': '0'}, {'Age': '32', 'Gender': '1', 'Impressions': '7', 'Clicks': '0', 'Signed_In': '1'}, {'Age': '38', 'Gender': '0', 'Impressions': '2', 'Clicks': '0', 'Signed_In': '1'}, {'Age': '31', 'Gender': '1', 'Impressions': '2', 'Clicks': '0', 'Signed_In': '1'}, {'Age': '64', 'Gender': '1', 'Impressions': '5', 'Clicks': '0', 'Signed_In': '1'}, {'Age': '38', 'Gender': '0', 'Impressions': '5', 'Clicks': '0', 'Signed_In': '1'}, {'Age': '59', 'Gender': '0', 'Impressions': '8', 'Clicks': '0', 'Signed_In': '1'}], 'ts': 1745816430}\n",
      "Message published successfully. Data: {'data': [{'Age': '0', 'Gender': '0', 'Impressions': '6', 'Clicks': '0', 'Signed_In': '0'}, {'Age': '83', 'Gender': '1', 'Impressions': '6', 'Clicks': '0', 'Signed_In': '1'}, {'Age': '0', 'Gender': '0', 'Impressions': '3', 'Clicks': '1', 'Signed_In': '0'}, {'Age': '59', 'Gender': '0', 'Impressions': '1', 'Clicks': '0', 'Signed_In': '1'}, {'Age': '14', 'Gender': '1', 'Impressions': '5', 'Clicks': '0', 'Signed_In': '1'}, {'Age': '22', 'Gender': '1', 'Impressions': '3', 'Clicks': '0', 'Signed_In': '1'}, {'Age': '0', 'Gender': '0', 'Impressions': '4', 'Clicks': '0', 'Signed_In': '0'}], 'ts': 1745816435}\n",
      "Message published successfully. Data: {'data': [{'Age': '52', 'Gender': '0', 'Impressions': '7', 'Clicks': '0', 'Signed_In': '1'}, {'Age': '46', 'Gender': '0', 'Impressions': '3', 'Clicks': '0', 'Signed_In': '1'}, {'Age': '0', 'Gender': '0', 'Impressions': '6', 'Clicks': '0', 'Signed_In': '0'}, {'Age': '0', 'Gender': '0', 'Impressions': '4', 'Clicks': '0', 'Signed_In': '0'}, {'Age': '79', 'Gender': '0', 'Impressions': '6', 'Clicks': '0', 'Signed_In': '1'}, {'Age': '0', 'Gender': '0', 'Impressions': '9', 'Clicks': '0', 'Signed_In': '0'}, {'Age': '48', 'Gender': '0', 'Impressions': '6', 'Clicks': '0', 'Signed_In': '1'}], 'ts': 1745816440}\n",
      "Message published successfully. Data: {'data': [{'Age': '0', 'Gender': '0', 'Impressions': '11', 'Clicks': '0', 'Signed_In': '0'}, {'Age': '29', 'Gender': '0', 'Impressions': '6', 'Clicks': '0', 'Signed_In': '1'}, {'Age': '41', 'Gender': '0', 'Impressions': '7', 'Clicks': '1', 'Signed_In': '1'}, {'Age': '39', 'Gender': '0', 'Impressions': '4', 'Clicks': '0', 'Signed_In': '1'}, {'Age': '0', 'Gender': '0', 'Impressions': '6', 'Clicks': '0', 'Signed_In': '0'}, {'Age': '0', 'Gender': '0', 'Impressions': '6', 'Clicks': '1', 'Signed_In': '0'}, {'Age': '0', 'Gender': '0', 'Impressions': '4', 'Clicks': '0', 'Signed_In': '0'}], 'ts': 1745816445}\n",
      "Message published successfully. Data: {'data': [{'Age': '22', 'Gender': '0', 'Impressions': '7', 'Clicks': '0', 'Signed_In': '1'}, {'Age': '67', 'Gender': '0', 'Impressions': '5', 'Clicks': '0', 'Signed_In': '1'}, {'Age': '51', 'Gender': '1', 'Impressions': '6', 'Clicks': '0', 'Signed_In': '1'}, {'Age': '0', 'Gender': '0', 'Impressions': '6', 'Clicks': '0', 'Signed_In': '0'}, {'Age': '47', 'Gender': '1', 'Impressions': '3', 'Clicks': '0', 'Signed_In': '1'}, {'Age': '0', 'Gender': '0', 'Impressions': '4', 'Clicks': '0', 'Signed_In': '0'}, {'Age': '60', 'Gender': '1', 'Impressions': '4', 'Clicks': '1', 'Signed_In': '1'}], 'ts': 1745816450}\n",
      "Message published successfully. Data: {'data': [{'Age': '0', 'Gender': '0', 'Impressions': '8', 'Clicks': '0', 'Signed_In': '0'}, {'Age': '29', 'Gender': '1', 'Impressions': '7', 'Clicks': '0', 'Signed_In': '1'}, {'Age': '0', 'Gender': '0', 'Impressions': '6', 'Clicks': '0', 'Signed_In': '0'}, {'Age': '60', 'Gender': '0', 'Impressions': '5', 'Clicks': '0', 'Signed_In': '1'}, {'Age': '0', 'Gender': '0', 'Impressions': '3', 'Clicks': '0', 'Signed_In': '0'}, {'Age': '38', 'Gender': '0', 'Impressions': '3', 'Clicks': '0', 'Signed_In': '1'}, {'Age': '0', 'Gender': '0', 'Impressions': '2', 'Clicks': '0', 'Signed_In': '0'}], 'ts': 1745816455}\n"
     ]
    },
    {
     "ename": "KeyboardInterrupt",
     "evalue": "",
     "output_type": "error",
     "traceback": [
      "\u001b[0;31m---------------------------------------------------------------------------\u001b[0m",
      "\u001b[0;31mKeyboardInterrupt\u001b[0m                         Traceback (most recent call last)",
      "Cell \u001b[0;32mIn[1], line 64\u001b[0m\n\u001b[1;32m     62\u001b[0m \u001b[38;5;28;01mif\u001b[39;00m(start_index\u001b[38;5;241m>\u001b[39m\u001b[38;5;241m=\u001b[39m\u001b[38;5;28mlen\u001b[39m(cRows)):\n\u001b[1;32m     63\u001b[0m     start_index\u001b[38;5;241m=\u001b[39m\u001b[38;5;241m0\u001b[39m\n\u001b[0;32m---> 64\u001b[0m \u001b[43msleep\u001b[49m\u001b[43m(\u001b[49m\u001b[38;5;241;43m5\u001b[39;49m\u001b[43m)\u001b[49m\n",
      "\u001b[0;31mKeyboardInterrupt\u001b[0m: "
     ]
    }
   ],
   "source": [
    "# import statements\n",
    "from time import sleep\n",
    "from json import dumps\n",
    "from kafka3 import KafkaProducer\n",
    "import random\n",
    "import datetime as dt\n",
    "import csv\n",
    "\n",
    "#configuration\n",
    "hostip = \"192.168.100.4\" #change to your machine IP address\n",
    "# hostip = \"192.168.87.1\"\n",
    "\n",
    "\n",
    "def readCSVFile(fileName):\n",
    "    list=[]\n",
    "    with open(fileName, 'rt') as f:\n",
    "        reader = csv.DictReader(f)\n",
    "        for row in reader:\n",
    "            list.append(row)\n",
    "    return list\n",
    "\n",
    "def publish_message(producer_instance, topic_name, data):\n",
    "    try:\n",
    "        producer_instance.send(topic_name, data)\n",
    "        print('Message published successfully. Data: ' + str(data))\n",
    "    except Exception as ex:\n",
    "        print('Exception in publishing message.')\n",
    "        print(str(ex))\n",
    "        \n",
    "def connect_kafka_producer():\n",
    "    _producer = None\n",
    "    try:\n",
    "        _producer = KafkaProducer(bootstrap_servers=[f'{hostip}:9092'],\n",
    "                                  value_serializer=lambda x: dumps(x).encode('ascii'),\n",
    "                                  api_version=(0, 10))\n",
    "    except Exception as ex:\n",
    "        print('Exception while connecting Kafka.')\n",
    "        print(str(ex))\n",
    "    finally:\n",
    "        return _producer\n",
    "    \n",
    "if __name__ == '__main__':\n",
    "   \n",
    "    topic = 'clickstream'\n",
    "    cRows = readCSVFile('clickstream.csv')\n",
    "    \n",
    "    print('Publishing records..')\n",
    "    producer = connect_kafka_producer()\n",
    "    start_index=0\n",
    "    #number of rows to send\n",
    "    rows_to_send=random.randint(5,10)\n",
    "    while True:\n",
    "        \n",
    "        to_send = cRows[start_index:start_index+rows_to_send]\n",
    "        #increase the start index by the number of rows taken\n",
    "        start_index = start_index+rows_to_send\n",
    "        #append the timestamp into the object to be sent\n",
    "        data = {'data':to_send,'ts': int(dt.datetime.now().timestamp())}\n",
    "        publish_message(producer, topic, data)\n",
    "        \n",
    "        #reset to start from begining\n",
    "        if(start_index>=len(cRows)):\n",
    "            start_index=0\n",
    "        sleep(5)\n",
    "        "
   ]
  },
  {
   "cell_type": "code",
   "execution_count": null,
   "metadata": {},
   "outputs": [],
   "source": []
  }
 ],
 "metadata": {
  "colab": {
   "collapsed_sections": [],
   "name": "LT1-Producer SOLUTION.ipynb",
   "provenance": []
  },
  "kernelspec": {
   "display_name": "Python 3 (ipykernel)",
   "language": "python",
   "name": "python3"
  },
  "language_info": {
   "codemirror_mode": {
    "name": "ipython",
    "version": 3
   },
   "file_extension": ".py",
   "mimetype": "text/x-python",
   "name": "python",
   "nbconvert_exporter": "python",
   "pygments_lexer": "ipython3",
   "version": "3.10.13"
  }
 },
 "nbformat": 4,
 "nbformat_minor": 1
}
