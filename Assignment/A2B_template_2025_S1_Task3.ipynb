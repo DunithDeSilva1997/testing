{
 "cells": [
  {
   "cell_type": "markdown",
   "metadata": {},
   "source": [
    "# Part 3. Consuming data using Kafka and Visualise\n",
    "In this task, we will implement an Apache Kafka consumer to consume the data from Part 1. Spark is not allowed in this part since it’s simulating a streaming data source.\n",
    "\n",
    "1) Write a python program that consumes the streaming transaction data sent by the producer in Part 1 using kafka consumer.\n",
    "2) Your program should also get the number of successful transactions (i.e., when 'payment_status' is 'Success') for each batch of transaction data, and visualise these counts in real time based on the event timestamp.\n",
    " \n"
   ]
  },
  {
   "cell_type": "code",
   "execution_count": null,
   "metadata": {},
   "outputs": [],
   "source": []
  }
 ],
 "metadata": {
  "kernelspec": {
   "display_name": "Python 3 (ipykernel)",
   "language": "python",
   "name": "python3"
  },
  "language_info": {
   "codemirror_mode": {
    "name": "ipython",
    "version": 3
   },
   "file_extension": ".py",
   "mimetype": "text/x-python",
   "name": "python",
   "nbconvert_exporter": "python",
   "pygments_lexer": "ipython3",
   "version": "3.10.13"
  },
  "vscode": {
   "interpreter": {
    "hash": "5c7b89af1651d0b8571dde13640ecdccf7d5a6204171d6ab33e7c296e100e08a"
   }
  }
 },
 "nbformat": 4,
 "nbformat_minor": 4
}
